{
 "cells": [
  {
   "cell_type": "code",
   "execution_count": 4,
   "id": "8869210b",
   "metadata": {},
   "outputs": [],
   "source": [
    "#importing stuff\n",
    "import math\n",
    "import pandas as pan\n",
    "import numpy as np\n",
    "import random\n",
    "import csv"
   ]
  },
  {
   "cell_type": "markdown",
   "id": "d38cf5eb",
   "metadata": {},
   "source": [
    "# About Data"
   ]
  },
  {
   "cell_type": "markdown",
   "id": "7c91a188",
   "metadata": {},
   "source": [
    "Data From the force gauge are in .log forrm\n",
    "\n",
    "Data From the sensors are in .csv form\n",
    "\n",
    "The timing of the data don't match. Hence, You should align them manually as they come from 2 different software and the star times don't match."
   ]
  },
  {
   "cell_type": "code",
   "execution_count": 7,
   "id": "7207a92b",
   "metadata": {},
   "outputs": [
    {
     "ename": "SyntaxError",
     "evalue": "(unicode error) 'unicodeescape' codec can't decode bytes in position 2-3: truncated \\UXXXXXXXX escape (<ipython-input-7-61b7ce9109e6>, line 8)",
     "output_type": "error",
     "traceback": [
      "\u001b[1;36m  File \u001b[1;32m\"<ipython-input-7-61b7ce9109e6>\"\u001b[1;36m, line \u001b[1;32m8\u001b[0m\n\u001b[1;33m    TestOne_W = open(\"C:\\Users\\fatem\\Desktop\\University\\FYP\\FK_dummytummy\\with water\\test1-1 to 4, 50\")\u001b[0m\n\u001b[1;37m                     ^\u001b[0m\n\u001b[1;31mSyntaxError\u001b[0m\u001b[1;31m:\u001b[0m (unicode error) 'unicodeescape' codec can't decode bytes in position 2-3: truncated \\UXXXXXXXX escape\n"
     ]
    }
   ],
   "source": [
    "#Loading the data\n",
    "\n",
    "#With water\n",
    "\n",
    "#Test 1\n",
    "#1 to 4 with water run 46\n",
    "\n",
    "TestOne_W = open(\"C:\\Users\\fatem\\Desktop\\University\\FYP\\FK_dummytummy\\with water\\test1-1 to 4, 50\")\n",
    "#with open(\"1 to 4 with water Run 46 30-11-2021.csv\") as TestOne_W:\n",
    " #  reader = csv.reader(file) #can iterate and get each row\n",
    "  #  #code "
   ]
  },
  {
   "cell_type": "markdown",
   "id": "412ef75c",
   "metadata": {},
   "source": [
    "# Experiments"
   ]
  },
  {
   "cell_type": "markdown",
   "id": "1523f471",
   "metadata": {},
   "source": [
    "The Experiments Are As Following:\n",
    "\n",
    "Test 1 - Stain Test : 5 mm away from the sensor\n",
    "\n",
    "Test 2 - Adjacent sensor \n",
    "\n",
    "Test 3 - away from the sensor\n",
    "\n",
    "Test 4 - away from adjacent sensor\n",
    "\n",
    "Test 5 - Gradually increase force\n"
   ]
  },
  {
   "cell_type": "code",
   "execution_count": null,
   "id": "378ebdb6",
   "metadata": {},
   "outputs": [],
   "source": []
  }
 ],
 "metadata": {
  "kernelspec": {
   "display_name": "Python 3",
   "language": "python",
   "name": "python3"
  },
  "language_info": {
   "codemirror_mode": {
    "name": "ipython",
    "version": 3
   },
   "file_extension": ".py",
   "mimetype": "text/x-python",
   "name": "python",
   "nbconvert_exporter": "python",
   "pygments_lexer": "ipython3",
   "version": "3.8.8"
  }
 },
 "nbformat": 4,
 "nbformat_minor": 5
}
