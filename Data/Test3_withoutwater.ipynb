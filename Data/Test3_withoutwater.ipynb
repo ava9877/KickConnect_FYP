{
 "cells": [
  {
   "cell_type": "code",
   "execution_count": 1,
   "id": "45aea923",
   "metadata": {},
   "outputs": [],
   "source": [
    "#importing stuff\n",
    "import math\n",
    "import numpy as np\n",
    "import random\n",
    "import csv\n",
    "import matplotlib.pyplot as plt\n",
    "import pandas as pd\n",
    "import json \n",
    "from sklearn.linear_model import LinearRegression\n",
    "from sklearn.model_selection import train_test_split\n",
    "from scipy.signal import find_peaks\n",
    "\n",
    "from sklearn.model_selection import KFold, StratifiedKFold, cross_val_score\n",
    "from sklearn import linear_model, tree, ensemble\n",
    "from sklearn.tree import DecisionTreeRegressor\n",
    "from sklearn.svm import SVR\n",
    "from BaselineRemoval import BaselineRemoval\n",
    "from sklearn.metrics import mean_squared_error\n",
    "\n",
    "from scipy import signal\n",
    "from sklearn.tree import DecisionTreeRegressor "
   ]
  },
  {
   "cell_type": "code",
   "execution_count": 2,
   "id": "ed286b42",
   "metadata": {},
   "outputs": [],
   "source": [
    "def cross_entropy(y,y_pre):\n",
    "    loss=-np.sum(y*np.log(y_pre))\n",
    "    return loss/float(y_pre.shape[0])"
   ]
  },
  {
   "cell_type": "code",
   "execution_count": 3,
   "id": "271bc89c",
   "metadata": {},
   "outputs": [],
   "source": [
    "#Test 3 without water\n",
    "#Placed away from 3 towards x\n",
    "awaytes3_wo1 = pd.read_csv(\"C:\\\\Users\\\\fatem\\\\Desktop\\\\University\\\\FYP\\\\FK_dummytummy\\\\without water\\\\test3\\\\t3_s3_1.csv\",index_col = \"Index\")\n",
    "awaytes3_wo2 = pd.read_csv(\"C:\\\\Users\\\\fatem\\\\Desktop\\\\University\\\\FYP\\\\FK_dummytummy\\\\without water\\\\test3\\\\t3_s3_2.csv\",index_col = \"Index\")\n",
    "awaytes3_wo3 = pd.read_csv(\"C:\\\\Users\\\\fatem\\\\Desktop\\\\University\\\\FYP\\\\FK_dummytummy\\\\without water\\\\test3\\\\t3_s3_3.csv\",index_col = \"Index\")\n",
    "awaytes3_wo4 = pd.read_csv(\"C:\\\\Users\\\\fatem\\\\Desktop\\\\University\\\\FYP\\\\FK_dummytummy\\\\without water\\\\test3\\\\t3_s3_4.csv\",index_col = \"Index\")\n"
   ]
  },
  {
   "cell_type": "code",
   "execution_count": null,
   "id": "44f49bfc",
   "metadata": {},
   "outputs": [],
   "source": []
  }
 ],
 "metadata": {
  "kernelspec": {
   "display_name": "Python 3",
   "language": "python",
   "name": "python3"
  },
  "language_info": {
   "codemirror_mode": {
    "name": "ipython",
    "version": 3
   },
   "file_extension": ".py",
   "mimetype": "text/x-python",
   "name": "python",
   "nbconvert_exporter": "python",
   "pygments_lexer": "ipython3",
   "version": "3.8.8"
  }
 },
 "nbformat": 4,
 "nbformat_minor": 5
}
