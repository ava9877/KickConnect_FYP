{
 "cells": [
  {
   "cell_type": "code",
   "execution_count": 3,
   "id": "c7d2f7b4",
   "metadata": {},
   "outputs": [],
   "source": [
    "from scipy.signal import find_peaks"
   ]
  },
  {
   "cell_type": "code",
   "execution_count": 6,
   "id": "4e4075a5",
   "metadata": {},
   "outputs": [],
   "source": [
    "def slicer (time,Load_resist):\n",
    "    \n",
    "    flag = False\n",
    "    time_inx = [] \n",
    "    res_inx =[] \n",
    "\n",
    "    j = 0\n",
    "\n",
    "\n",
    "\n",
    "    # for i in range(len(N)):\n",
    "    #     if (N[i] <0.005)& (flag == False):\n",
    "    #         continue\n",
    "    #     elif (N[i] >= 0.005)&(flag== False):\n",
    "    #         time_inx.append(i)\n",
    "    #         flag = True\n",
    "    #         j = j + 1\n",
    "    #     elif (N[i] >= 0.005)&( flag == True):\n",
    "    #         continue\n",
    "    #     elif (N[i] <0.005)&( flag == True) & ((i- time_inx[j -1]) > 200 ):\n",
    "    #         res_inx.append(i)\n",
    "    #         flag = False\n",
    "\n",
    "    for i in range(len(Load_resist)):\n",
    "        if (Load_resist[i] <0.004)& (flag == False):\n",
    "            continue\n",
    "        elif (Load_resist[i] >= 0.004)&(flag== False): \n",
    "            if (j >= 1 ) : \n",
    "                if ( (i- res_inx[j - 1] ) > 150):\n",
    "                    time_inx.append(i)\n",
    "                    flag = True\n",
    "                    j = j + 1\n",
    "            else:\n",
    "                time_inx.append(i)\n",
    "                flag = True\n",
    "                j = j + 1\n",
    "\n",
    "        elif (Load_resist[i] >= 0.004)&( flag == True):\n",
    "            continue\n",
    "        elif (Load_resist[i] <0.004)&( flag == True) & ((i- time_inx[j -1]) > 240 ):\n",
    "            res_inx.append(i)\n",
    "            flag = False\n",
    "\n",
    "    if len(time_inx) > 10:\n",
    "        del res_inx[-1]\n",
    "        del res_inx[-1]\n",
    "        res_inx.append(time_inx[len(time_inx)-1])\n",
    "        del time_inx[-1]\n",
    "        \n",
    "    \n",
    "    piecetime = []\n",
    "    pieceres = []\n",
    "\n",
    "    for i in range(len(time_inx)):\n",
    "        piecetime.append(time.iloc[time_inx[i]:res_inx[i]])\n",
    "        pieceres.append(Load_resist.iloc[time_inx[i]:res_inx[i]])\n",
    "        #finding peaks \n",
    "        peaks, _ = find_peaks(pieceres[i])\n",
    "        peaks_amplitude = pieceres[i].iloc[peaks]\n",
    "        peaks_time = piecetime[i].iloc[peaks]\n",
    "        plt.figure(figsize=(50, 20))\n",
    "        plt.plot(piecetime[i],pieceres[i])\n",
    "        plt.scatter(peaks_time,peaks_amplitude)\n",
    "\n",
    "    return (piecetime[i],pieceres[i])"
   ]
  },
  {
   "cell_type": "code",
   "execution_count": null,
   "id": "4e638ca6",
   "metadata": {},
   "outputs": [],
   "source": []
  }
 ],
 "metadata": {
  "kernelspec": {
   "display_name": "Python 3",
   "language": "python",
   "name": "python3"
  },
  "language_info": {
   "codemirror_mode": {
    "name": "ipython",
    "version": 3
   },
   "file_extension": ".py",
   "mimetype": "text/x-python",
   "name": "python",
   "nbconvert_exporter": "python",
   "pygments_lexer": "ipython3",
   "version": "3.8.8"
  }
 },
 "nbformat": 4,
 "nbformat_minor": 5
}
